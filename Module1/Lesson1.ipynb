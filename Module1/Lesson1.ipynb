{
  "nbformat": 4,
  "nbformat_minor": 0,
  "metadata": {
    "colab": {
      "provenance": [],
      "include_colab_link": true
    },
    "kernelspec": {
      "name": "python3",
      "display_name": "Python 3"
    },
    "language_info": {
      "name": "python"
    }
  },
  "cells": [
    {
      "cell_type": "markdown",
      "metadata": {
        "id": "view-in-github",
        "colab_type": "text"
      },
      "source": [
        "<a href=\"https://colab.research.google.com/github/anandchauhan21/Design_and_Analysis_of_Algorithm/blob/main/Module1/Lesson1.ipynb\" target=\"_parent\"><img src=\"https://colab.research.google.com/assets/colab-badge.svg\" alt=\"Open In Colab\"/></a>"
      ]
    },
    {
      "cell_type": "markdown",
      "source": [
        "# 📘 Lesson 1: Introduction to Algorithms\n",
        "\n",
        "## 🎯 Objectives\n",
        "- Understand what an algorithm is\n",
        "- Learn properties and types of algorithms\n",
        "- Implement algorithms in Python and C\n",
        "---\n",
        "# 🧠 What is an Algorithm?\n",
        "\n",
        "An **algorithm** is a set of instructions designed to perform a specific task.\n",
        "\n",
        "📌 Example from daily life:\n",
        "- Making tea 🍵\n",
        "- Brushing your teeth 🪥\n",
        "- Instructions to use an ATM 💳\n",
        "\n",
        "> In programming, we use algorithms to solve problems in a systematic and efficient way.\n",
        "\n",
        "\n",
        "# ✅ Properties of a Good Algorithm\n",
        "\n",
        "1. **Correctness** – Gives correct results for all valid inputs.\n",
        "2. **Finiteness** – Must end after a limited number of steps.\n",
        "3. **Clarity** – Steps should be simple and unambiguous.\n",
        "4. **Input/Output** – Takes inputs, produces desired outputs.\n",
        "5. **Efficiency** – Uses as little time and space as possible.\n",
        "\n",
        "📝 Note: An algorithm that is correct but takes too long or uses too much memory is not practical.\n",
        "\n",
        "# 📚 Common Types of Algorithms\n",
        "\n",
        "1. **Brute Force** – Try all possibilities (e.g., Linear Search).\n",
        "2. **Divide and Conquer** – Break problem into smaller parts (e.g., Merge Sort).\n",
        "3. **Greedy** – Always take the best local choice (e.g., Activity Selection).\n",
        "4. **Dynamic Programming** – Store results of subproblems (e.g., Fibonacci, Knapsack).\n",
        "5. **Backtracking** – Try options and backtrack if they fail (e.g., N-Queens).\n",
        "6. **Graph Algorithms** – Traverse and solve graph problems (e.g., DFS, BFS, Dijkstra’s).\n",
        "\n",
        "📝 Note: The choice of algorithm depends on the problem type and constraints.\n"
      ],
      "metadata": {
        "id": "JfEDvznSCfHP"
      }
    },
    {
      "cell_type": "markdown",
      "source": [
        "## EXAMPLE 1: Add Two Numbers"
      ],
      "metadata": {
        "id": "xXvZ_V5OEmf9"
      }
    },
    {
      "cell_type": "code",
      "source": [
        "# 🐍 Python Example 1: Add two numbers\n",
        "\n",
        "# Function to add two numbers\n",
        "def add_numbers(a, b):\n",
        "    return a + b\n",
        "\n",
        "# Inputs\n",
        "x = 10\n",
        "y = 20\n",
        "\n",
        "# Output\n",
        "print(\"Sum of\", x, \"and\", y, \"is:\", add_numbers(x, y))"
      ],
      "metadata": {
        "colab": {
          "base_uri": "https://localhost:8080/"
        },
        "id": "hjypNeAYCdgj",
        "outputId": "ccdcaa6f-5bbd-4520-9ffc-caeca1999865"
      },
      "execution_count": 1,
      "outputs": [
        {
          "output_type": "stream",
          "name": "stdout",
          "text": [
            "Sum of 10 and 20 is: 30\n"
          ]
        }
      ]
    },
    {
      "cell_type": "code",
      "source": [
        "# Step 1: Create a C file\n",
        "code = \"\"\"\n",
        "#include <stdio.h>\n",
        "\n",
        "int add(int a, int b) {\n",
        "    return a + b;\n",
        "}\n",
        "\n",
        "int main() {\n",
        "    int x = 10, y = 20;\n",
        "    printf(\"Sum of %d and %d is: %d\\\\n\", x, y, add(x, y));\n",
        "    return 0;\n",
        "}\n",
        "\"\"\"\n",
        "\n",
        "# Save the code to a file\n",
        "with open(\"add_example.c\", \"w\") as f:\n",
        "    f.write(code)\n",
        "\n",
        "# Step 2: Compile the C file\n",
        "!gcc add_example.c -o add_example\n",
        "\n",
        "# Step 3: Run the compiled C program\n",
        "!./add_example\n"
      ],
      "metadata": {
        "colab": {
          "base_uri": "https://localhost:8080/"
        },
        "id": "O8L6ZkW9DLD5",
        "outputId": "bb93dd6f-7774-4c31-ec44-83155052c302"
      },
      "execution_count": 3,
      "outputs": [
        {
          "output_type": "stream",
          "name": "stdout",
          "text": [
            "Sum of 10 and 20 is: 30\n"
          ]
        }
      ]
    },
    {
      "cell_type": "markdown",
      "source": [
        "---\n",
        "\n",
        "## EXAMPLE 2: Find Maximum in a List\n",
        "\n"
      ],
      "metadata": {
        "id": "OI2-NGnADyGP"
      }
    },
    {
      "cell_type": "markdown",
      "source": [
        "\n",
        "#### 🐍 Python Code Block"
      ],
      "metadata": {
        "id": "t_PE4GDbFAlR"
      }
    },
    {
      "cell_type": "code",
      "source": [
        "def find_max(numbers):\n",
        "    max_val = numbers[0]\n",
        "    for num in numbers:\n",
        "        if num > max_val:\n",
        "            max_val = num\n",
        "    return max_val\n",
        "\n",
        "# Test list\n",
        "data = [12, 45, 7, 89, 23]\n",
        "print(\"Maximum value is:\", find_max(data))\n"
      ],
      "metadata": {
        "id": "_W4qPNVnDpUK"
      },
      "execution_count": null,
      "outputs": []
    },
    {
      "cell_type": "markdown",
      "source": [
        "#### 💻 C Code Block"
      ],
      "metadata": {
        "id": "vwz1CixUD8t8"
      }
    },
    {
      "cell_type": "code",
      "source": [
        "# Step 1: Create the C file with your code\n",
        "c_code = \"\"\"\n",
        "#include <stdio.h>\n",
        "\n",
        "int find_max(int arr[], int size) {\n",
        "    int max = arr[0];\n",
        "    for (int i = 1; i < size; i++) {\n",
        "        if (arr[i] > max)\n",
        "            max = arr[i];\n",
        "    }\n",
        "    return max;\n",
        "}\n",
        "\n",
        "int main() {\n",
        "    int data[] = {12, 45, 7, 89, 23};\n",
        "    int size = sizeof(data)/sizeof(data[0]);\n",
        "    printf(\"Maximum: %d\\\\n\", find_max(data, size));\n",
        "    return 0;\n",
        "}\n",
        "\"\"\"\n",
        "\n",
        "# Step 2: Save the code to a file\n",
        "with open(\"max_example.c\", \"w\") as f:\n",
        "    f.write(c_code)\n",
        "\n",
        "# Step 3: Compile the C code using gcc\n",
        "!gcc max_example.c -o max_example\n",
        "\n",
        "# Step 4: Run the compiled program\n",
        "!./max_example\n"
      ],
      "metadata": {
        "colab": {
          "base_uri": "https://localhost:8080/"
        },
        "id": "LDjMp5VVECKc",
        "outputId": "650db881-71ae-46a3-a189-792fc4a14733"
      },
      "execution_count": 8,
      "outputs": [
        {
          "output_type": "stream",
          "name": "stdout",
          "text": [
            "Maximum: 89\n"
          ]
        }
      ]
    },
    {
      "cell_type": "markdown",
      "source": [
        "\n",
        "---\n",
        "\n",
        "## WRAP-UP & STUDENT TASK\n",
        "\n",
        "```markdown\n",
        "# 🎉 Wrap-Up\n",
        "\n",
        "Today, you learned:\n",
        "✅ What an algorithm is  \n",
        "✅ Properties of good algorithms  \n",
        "✅ Different types of algorithms  \n",
        "✅ Two real examples in Python and C\n",
        "\n",
        "---\n",
        "\n",
        "## ✍️ Your Turn (Try This):\n",
        "1. Write an algorithm (in your own words) to check if a number is **even or odd**.\n",
        "2. Implement it in both **Python** and **C**.\n",
        "3. Bonus: Try it with inputs like 0, 1, 10, 25, 101.\n",
        "\n",
        "---\n",
        "\n",
        "🔜 **Next Lesson**: Algorithm Analysis – Time and Space Complexity 📈\n"
      ],
      "metadata": {
        "id": "vhp-ivAHEHb_"
      }
    }
  ]
}