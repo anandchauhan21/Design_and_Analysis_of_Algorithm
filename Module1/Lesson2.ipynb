{
  "nbformat": 4,
  "nbformat_minor": 0,
  "metadata": {
    "colab": {
      "provenance": [],
      "authorship_tag": "ABX9TyO3Nfp+aAxWNiW1jX6VVV/H",
      "include_colab_link": true
    },
    "kernelspec": {
      "name": "python3",
      "display_name": "Python 3"
    },
    "language_info": {
      "name": "python"
    }
  },
  "cells": [
    {
      "cell_type": "markdown",
      "metadata": {
        "id": "view-in-github",
        "colab_type": "text"
      },
      "source": [
        "<a href=\"https://colab.research.google.com/github/anandchauhan21/Design_and_Analysis_of_Algorithm/blob/main/Module1/Lesson2.ipynb\" target=\"_parent\"><img src=\"https://colab.research.google.com/assets/colab-badge.svg\" alt=\"Open In Colab\"/></a>"
      ]
    },
    {
      "cell_type": "markdown",
      "source": [
        "# 🧑‍🏫 Lesson 2: Algorithm Analysis\n",
        "\n",
        "#### 📚 Topic: Parameters, Complexity Types (Time & Space)\n",
        "#### ⏰ Duration: 1 Hour\n",
        "#### 🔧 Languages: Python & C (run via Colab)\n",
        "\n",
        "## 🎯 Objectives\n",
        "\n",
        "\n",
        "- ✅ Understand what algorithm analysis means  \n",
        "- ✅ Explain time complexity and space complexity  \n",
        "- ✅ Identify common Big-O notations (O(1), O(n), O(n²))  \n",
        "- ✅ Analyze basic Python and C programs for efficiency  \n",
        "- ✅ Write simple code and explain its performance behavior\n"
      ],
      "metadata": {
        "id": "8Y5sTx54Kylc"
      }
    },
    {
      "cell_type": "markdown",
      "source": [
        "## 📘 What is Algorithm Analysis?\n",
        "\n",
        "Algorithm analysis helps us understand:\n",
        "- 🕒 **Time Complexity** → How long will the algorithm take?\n",
        "- 💾 **Space Complexity** → How much memory will it use?\n",
        "\n",
        "✅ Why it matters: Helps us pick the **best solution** for big inputs.\n"
      ],
      "metadata": {
        "id": "4TYn8zygMxX8"
      }
    },
    {
      "cell_type": "markdown",
      "source": [
        "# ⏱️ Time Complexity (How fast?)\n",
        "\n",
        "Time complexity is the number of steps an algorithm takes **relative to input size `n`**.\n",
        "\n",
        "Common time complexities:\n",
        "- **O(1)** – Constant time (fastest)\n",
        "- **O(log n)** – Logarithmic (e.g., Binary Search)\n",
        "- **O(n)** – Linear (e.g., Loop through array)\n",
        "- **O(n²)** – Quadratic (e.g., Nested loops)\n",
        "\n",
        "📝 Note: \"O\" means the **upper bound** (worst-case scenario).\n"
      ],
      "metadata": {
        "id": "XPFLh1CsM3Vl"
      }
    },
    {
      "cell_type": "markdown",
      "source": [
        "# 💾 Space Complexity (How much memory?)\n",
        "\n",
        "Space complexity measures **extra memory** an algorithm uses:\n",
        "- Variables\n",
        "- Data structures (lists, arrays)\n",
        "- Function call stack (for recursion)\n",
        "\n",
        "Example:\n",
        "- Constant space → O(1)\n",
        "- Storing a list of `n` → O(n)\n"
      ],
      "metadata": {
        "id": "aKIJvE3yM7MN"
      }
    },
    {
      "cell_type": "markdown",
      "source": [
        "# 📈 EXAMPLE 1 – Linear Search in Python (O(n) Time, O(1) Space)"
      ],
      "metadata": {
        "id": "yh_pDV_gM9rV"
      }
    },
    {
      "cell_type": "markdown",
      "source": [
        "### 🐍 Python: Linear Search – O(n) Time, O(1) Space"
      ],
      "metadata": {
        "id": "x3_jHm80NC4i"
      }
    },
    {
      "cell_type": "code",
      "source": [
        "def linear_search(arr, target):\n",
        "    for i in range(len(arr)):\n",
        "        if arr[i] == target:\n",
        "            return i\n",
        "    return -1\n",
        "\n",
        "arr = [10, 20, 30, 40, 50]\n",
        "print(\"Found at index:\", linear_search(arr, 30))"
      ],
      "metadata": {
        "colab": {
          "base_uri": "https://localhost:8080/"
        },
        "id": "MVqGOtaDM2xE",
        "outputId": "edcf6461-c65e-4643-fa23-ca86b0e1b658"
      },
      "execution_count": 1,
      "outputs": [
        {
          "output_type": "stream",
          "name": "stdout",
          "text": [
            "Found at index: 2\n"
          ]
        }
      ]
    },
    {
      "cell_type": "markdown",
      "source": [
        "### 💻 C Code: Linear Search"
      ],
      "metadata": {
        "id": "MTrgCcYyNU6N"
      }
    },
    {
      "cell_type": "code",
      "source": [
        "c_code = \"\"\"\n",
        "#include <stdio.h>\n",
        "\n",
        "int linear_search(int arr[], int size, int target) {\n",
        "    for (int i = 0; i < size; i++) {\n",
        "        if (arr[i] == target)\n",
        "            return i;\n",
        "    }\n",
        "    return -1;\n",
        "}\n",
        "\n",
        "int main() {\n",
        "    int data[] = {10, 20, 30, 40, 50};\n",
        "    int size = sizeof(data) / sizeof(data[0]);\n",
        "    int index = linear_search(data, size, 30);\n",
        "    printf(\"Found at index: %d\\\\n\", index);\n",
        "    return 0;\n",
        "}\n",
        "\"\"\"\n",
        "\n",
        "# Save and run it\n",
        "with open(\"linear_search.c\", \"w\") as f:\n",
        "    f.write(c_code)\n",
        "\n",
        "!gcc linear_search.c -o linear_search\n",
        "!./linear_search"
      ],
      "metadata": {
        "colab": {
          "base_uri": "https://localhost:8080/"
        },
        "id": "MlneigpHNT9v",
        "outputId": "c99d4ada-b9bc-4d1c-b804-f5f85523f16a"
      },
      "execution_count": 2,
      "outputs": [
        {
          "output_type": "stream",
          "name": "stdout",
          "text": [
            "Found at index: 2\n"
          ]
        }
      ]
    },
    {
      "cell_type": "markdown",
      "source": [
        "# 📈 EXAMPLE 2: Sum of First n Numbers – Two Ways"
      ],
      "metadata": {
        "id": "zZGqqM9MOwQV"
      }
    },
    {
      "cell_type": "markdown",
      "source": [
        "### 🟨 Version A – Using a Loop: O(n) Time"
      ],
      "metadata": {
        "id": "1smW27Y6Pc5m"
      }
    },
    {
      "cell_type": "code",
      "source": [
        "# Python: Sum from 1 to n using a loop (O(n) time)\n",
        "\n",
        "def sum_loop(n):\n",
        "    total = 0\n",
        "    for i in range(1, n+1):\n",
        "        total += i\n",
        "    return total\n",
        "\n",
        "print(\"Sum using loop:\", sum_loop(100))\n"
      ],
      "metadata": {
        "id": "EF16etluPWEd"
      },
      "execution_count": null,
      "outputs": []
    },
    {
      "cell_type": "code",
      "source": [
        "# C code: Sum using loop (O(n))\n",
        "c_code = \"\"\"\n",
        "#include <stdio.h>\n",
        "\n",
        "int main() {\n",
        "    int n = 100, sum = 0;\n",
        "    for (int i = 1; i <= n; i++) {\n",
        "        sum += i;\n",
        "    }\n",
        "    printf(\"Sum using loop: %d\\\\n\", sum);\n",
        "    return 0;\n",
        "}\n",
        "\"\"\"\n",
        "\n",
        "with open(\"sum_loop.c\", \"w\") as f:\n",
        "    f.write(c_code)\n",
        "\n",
        "!gcc sum_loop.c -o sum_loop\n",
        "!./sum_loop\n"
      ],
      "metadata": {
        "id": "02a2CGY7PuNz"
      },
      "execution_count": null,
      "outputs": []
    },
    {
      "cell_type": "markdown",
      "source": [
        "### 🟩 Version B – Using Formula: O(1) Time"
      ],
      "metadata": {
        "id": "rWY774_5Phf-"
      }
    },
    {
      "cell_type": "code",
      "source": [
        "# Python: Sum from 1 to n using formula (O(1) time)\n",
        "\n",
        "def sum_formula(n):\n",
        "    return n * (n + 1) // 2\n",
        "\n",
        "print(\"Sum using formula:\", sum_formula(100))\n"
      ],
      "metadata": {
        "id": "b0Ug-EwiPhgF"
      },
      "execution_count": null,
      "outputs": []
    },
    {
      "cell_type": "markdown",
      "source": [
        "# 📈 EXAMPLE 3: Bubble Sort – O(n²) Time"
      ],
      "metadata": {
        "id": "rUdos4rRP7zV"
      }
    },
    {
      "cell_type": "code",
      "source": [
        "# Python: Bubble Sort – O(n^2) time\n",
        "\n",
        "def bubble_sort(arr):\n",
        "    n = len(arr)\n",
        "    for i in range(n):\n",
        "        for j in range(n - 1 - i):\n",
        "            if arr[j] > arr[j + 1]:\n",
        "                arr[j], arr[j + 1] = arr[j + 1], arr[j]\n",
        "    return arr\n",
        "\n",
        "data = [5, 2, 8, 1, 3]\n",
        "print(\"Sorted:\", bubble_sort(data))\n"
      ],
      "metadata": {
        "colab": {
          "base_uri": "https://localhost:8080/"
        },
        "id": "gYF5foiyPwiP",
        "outputId": "3977a75f-b7b7-4a99-f04e-ff942d340929"
      },
      "execution_count": 3,
      "outputs": [
        {
          "output_type": "stream",
          "name": "stdout",
          "text": [
            "Sorted: [1, 2, 3, 5, 8]\n"
          ]
        }
      ]
    },
    {
      "cell_type": "code",
      "source": [
        "# 💻 C code: Bubble Sort (O(n²)) – runs in Google Colab\n",
        "\n",
        "c_code = \"\"\"\n",
        "#include <stdio.h>\n",
        "\n",
        "void bubble_sort(int arr[], int n) {\n",
        "    for (int i = 0; i < n - 1; i++) {\n",
        "        for (int j = 0; j < n - i - 1; j++) {\n",
        "            if (arr[j] > arr[j + 1]) {\n",
        "                // Swap\n",
        "                int temp = arr[j];\n",
        "                arr[j] = arr[j + 1];\n",
        "                arr[j + 1] = temp;\n",
        "            }\n",
        "        }\n",
        "    }\n",
        "}\n",
        "\n",
        "void print_array(int arr[], int n) {\n",
        "    for (int i = 0; i < n; i++)\n",
        "        printf(\"%d \", arr[i]);\n",
        "    printf(\"\\\\n\");\n",
        "}\n",
        "\n",
        "int main() {\n",
        "    int data[] = {5, 2, 8, 1, 3};\n",
        "    int n = sizeof(data) / sizeof(data[0]);\n",
        "\n",
        "    printf(\"Original array: \");\n",
        "    print_array(data, n);\n",
        "\n",
        "    bubble_sort(data, n);\n",
        "\n",
        "    printf(\"Sorted array: \");\n",
        "    print_array(data, n);\n",
        "\n",
        "    return 0;\n",
        "}\n",
        "\"\"\"\n",
        "\n",
        "# Save to a file\n",
        "with open(\"bubble_sort.c\", \"w\") as f:\n",
        "    f.write(c_code)\n",
        "\n",
        "# Compile and run\n",
        "!gcc bubble_sort.c -o bubble_sort\n",
        "!./bubble_sort\n"
      ],
      "metadata": {
        "colab": {
          "base_uri": "https://localhost:8080/"
        },
        "id": "N4OfdsAmQXM7",
        "outputId": "1f85d846-bd5a-4d85-eed5-aaf507bfe095"
      },
      "execution_count": 4,
      "outputs": [
        {
          "output_type": "stream",
          "name": "stdout",
          "text": [
            "Original array: 5 2 8 1 3 \n",
            "Sorted array: 1 2 3 5 8 \n"
          ]
        }
      ]
    },
    {
      "cell_type": "markdown",
      "source": [
        "# ✅ Summary of Examples\n",
        "\n",
        "| Example                     | Time Complexity | Space Complexity | Notes                      |\n",
        "|----------------------------|------------------|-------------------|-----------------------------|\n",
        "| Linear Search              | O(n)             | O(1)              | Worst case: last item       |\n",
        "| Sum via Loop               | O(n)             | O(1)              | Simple for loop             |\n",
        "| Sum via Formula            | O(1)             | O(1)              | Uses math trick             |\n",
        "| Bubble Sort                | O(n²)            | O(1)              | Good for teaching, slow     |\n"
      ],
      "metadata": {
        "id": "fXQeOmAKQchy"
      }
    },
    {
      "cell_type": "markdown",
      "source": [
        "# 🎉 Wrap-Up – What You Learned\n",
        "\n",
        "✅ What time and space complexity mean  \n",
        "✅ Common Big-O notations  \n",
        "✅ Analyzed simple examples in Python and C\n",
        "\n",
        "---\n"
      ],
      "metadata": {
        "id": "03OCjXG7NwAL"
      }
    }
  ]
}